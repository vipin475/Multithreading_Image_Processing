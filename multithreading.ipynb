{
 "cells": [
  {
   "cell_type": "code",
   "execution_count": 14,
   "metadata": {},
   "outputs": [],
   "source": [
    "# importing images\n",
    "import os\n",
    "import cv2 as cv\n",
    "import shutil\n",
    "import time\n",
    "import concurrent.futures\n",
    "import sys"
   ]
  },
  {
   "cell_type": "code",
   "execution_count": 15,
   "metadata": {},
   "outputs": [],
   "source": [
    "# defining imagepaths\n",
    "folder_path = os.getcwd()\n",
    "\n",
    "inputFolder = os.path.join(folder_path,'InputImages')\n",
    "outputFolder = os.path.join(folder_path,'OutputImages')"
   ]
  },
  {
   "cell_type": "code",
   "execution_count": 16,
   "metadata": {},
   "outputs": [],
   "source": [
    "# creating output folder if not exist\n",
    "try:\n",
    "    shutil.rmtree(outputFolder)\n",
    "    os.mkdir(outputFolder)\n",
    "except:\n",
    "    os.mkdir(outputFolder)"
   ]
  },
  {
   "cell_type": "code",
   "execution_count": 17,
   "metadata": {},
   "outputs": [],
   "source": [
    "# code for image preprocessing (converting colored files to grayscale images)\n",
    "def rgb_to_grayscale(img_name):\n",
    "\n",
    "    inputImage = os.path.join(inputFolder,img_name)\n",
    "    img = cv.imread(inputImage)\n",
    "\n",
    "    #convert to grayscale and store file\n",
    "    gray_scale = cv.cvtColor(img,cv.COLOR_RGB2GRAY)\n",
    "\n",
    "    outputFile = os.path.join(outputFolder,'processed_{}'.format(img_name)) \n",
    "    cv.imwrite(outputFile,gray_scale)"
   ]
  },
  {
   "cell_type": "code",
   "execution_count": 18,
   "metadata": {},
   "outputs": [],
   "source": [
    "allImages = os.listdir(inputFolder)"
   ]
  },
  {
   "cell_type": "code",
   "execution_count": 19,
   "metadata": {},
   "outputs": [],
   "source": [
    "if(len(allImages)<500):\n",
    "    print('Not enough files in InputImages folder')\n",
    "    exit(0)"
   ]
  },
  {
   "cell_type": "code",
   "execution_count": 29,
   "metadata": {},
   "outputs": [],
   "source": [
    "def multithreading(nthreads, dirname): \n",
    "    with open('{}/report'.format(os.path.join(os.getcwd(),dirname)) ,'w') as report:\n",
    "        with open('{}/Using_{}_thread'.format(os.path.join(os.getcwd(),dirname), nthreads) ,'w') as file:\n",
    "            start = time.time()\n",
    "            for j in range(100,1001,100):\n",
    "                i = 0 \n",
    "\n",
    "                start_bundle = time.time()\n",
    "\n",
    "                with concurrent.futures.ThreadPoolExecutor(max_workers=nthreads) as executor:\n",
    "                    for img in allImages:\n",
    "                        executor.submit(rgb_to_grayscale,img)\n",
    "\n",
    "                    if(i==j):\n",
    "                        break\n",
    "                    i+=1\n",
    "\n",
    "                end_bundle = time.time()\n",
    "                file.write(str(j) + ' ' + str(end_bundle-start_bundle) + '\\n')\n",
    "                print('Number of Images:', j, ' - Time taken:', end_bundle-start_bundle, 'sec')\n",
    "            end = time.time()\n",
    "            report.write(str(nthreads) + ' ' + str(end-start) + '\\n')\n",
    "            "
   ]
  },
  {
   "cell_type": "code",
   "execution_count": 30,
   "metadata": {},
   "outputs": [],
   "source": [
    "dirname = 'Report'\n",
    "if not os.path.exists(dirname):\n",
    "    os.mkdir(os.path.join(os.getcwd(),dirname))"
   ]
  },
  {
   "cell_type": "code",
   "execution_count": 50,
   "metadata": {},
   "outputs": [
    {
     "name": "stdout",
     "output_type": "stream",
     "text": [
      "Number of threads used: 10\n",
      "Number of Images: 100  - Time taken: 6.405093431472778 sec\n",
      "Number of Images: 200  - Time taken: 6.804098844528198 sec\n",
      "Number of Images: 300  - Time taken: 4.776534557342529 sec\n",
      "Number of Images: 400  - Time taken: 8.020268201828003 sec\n",
      "Number of Images: 500  - Time taken: 10.018236637115479 sec\n",
      "Number of Images: 600  - Time taken: 17.210598707199097 sec\n",
      "Number of Images: 700  - Time taken: 17.449737787246704 sec\n",
      "Number of Images: 800  - Time taken: 4.571256637573242 sec\n",
      "Number of Images: 900  - Time taken: 7.255227327346802 sec\n",
      "Number of Images: 1000  - Time taken: 4.5277674198150635 sec\n"
     ]
    }
   ],
   "source": [
    "# Multihreading output with 10 threads:\n",
    "print(\"Number of threads used:\",  10)\n",
    "multithreading(10, dirname)"
   ]
  },
  {
   "cell_type": "code",
   "execution_count": 51,
   "metadata": {},
   "outputs": [
    {
     "name": "stdout",
     "output_type": "stream",
     "text": [
      "Number of threads used: 1\n",
      "Number of Images: 100  - Time taken: 24.26923370361328 sec\n",
      "Number of Images: 200  - Time taken: 26.39795756340027 sec\n",
      "Number of Images: 300  - Time taken: 24.3886137008667 sec\n",
      "Number of Images: 400  - Time taken: 24.78443431854248 sec\n",
      "Number of Images: 500  - Time taken: 25.987306594848633 sec\n",
      "Number of Images: 600  - Time taken: 27.678951501846313 sec\n",
      "Number of Images: 700  - Time taken: 33.755624532699585 sec\n",
      "Number of Images: 800  - Time taken: 26.478662252426147 sec\n",
      "Number of Images: 900  - Time taken: 26.474900007247925 sec\n",
      "Number of Images: 1000  - Time taken: 27.930934190750122 sec\n",
      "\n",
      "Number of threads used: 2\n",
      "Number of Images: 100  - Time taken: 16.31517457962036 sec\n",
      "Number of Images: 200  - Time taken: 22.710625648498535 sec\n",
      "Number of Images: 300  - Time taken: 24.15520691871643 sec\n",
      "Number of Images: 400  - Time taken: 26.257181644439697 sec\n",
      "Number of Images: 500  - Time taken: 19.865671634674072 sec\n",
      "Number of Images: 600  - Time taken: 24.889633417129517 sec\n",
      "Number of Images: 700  - Time taken: 22.88685369491577 sec\n",
      "Number of Images: 800  - Time taken: 20.028995513916016 sec\n",
      "Number of Images: 900  - Time taken: 27.420679092407227 sec\n",
      "Number of Images: 1000  - Time taken: 20.607855796813965 sec\n",
      "\n",
      "Number of threads used: 3\n",
      "Number of Images: 100  - Time taken: 25.150903940200806 sec\n",
      "Number of Images: 200  - Time taken: 20.017089366912842 sec\n",
      "Number of Images: 300  - Time taken: 12.617554187774658 sec\n",
      "Number of Images: 400  - Time taken: 12.480653762817383 sec\n",
      "Number of Images: 500  - Time taken: 10.794731855392456 sec\n",
      "Number of Images: 600  - Time taken: 13.76641845703125 sec\n",
      "Number of Images: 700  - Time taken: 17.10161304473877 sec\n",
      "Number of Images: 800  - Time taken: 19.554048538208008 sec\n",
      "Number of Images: 900  - Time taken: 13.791142463684082 sec\n",
      "Number of Images: 1000  - Time taken: 16.591216802597046 sec\n",
      "\n",
      "Number of threads used: 4\n",
      "Number of Images: 100  - Time taken: 11.71117091178894 sec\n",
      "Number of Images: 200  - Time taken: 10.495770931243896 sec\n",
      "Number of Images: 300  - Time taken: 15.469951868057251 sec\n",
      "Number of Images: 400  - Time taken: 12.292641878128052 sec\n",
      "Number of Images: 500  - Time taken: 19.44239377975464 sec\n",
      "Number of Images: 600  - Time taken: 17.107136726379395 sec\n",
      "Number of Images: 700  - Time taken: 11.260467052459717 sec\n",
      "Number of Images: 800  - Time taken: 13.34802532196045 sec\n",
      "Number of Images: 900  - Time taken: 13.39715576171875 sec\n",
      "Number of Images: 1000  - Time taken: 10.930469751358032 sec\n",
      "\n",
      "Number of threads used: 5\n",
      "Number of Images: 100  - Time taken: 8.986486196517944 sec\n",
      "Number of Images: 200  - Time taken: 7.787503957748413 sec\n",
      "Number of Images: 300  - Time taken: 10.849061012268066 sec\n",
      "Number of Images: 400  - Time taken: 8.871607065200806 sec\n",
      "Number of Images: 500  - Time taken: 10.052557945251465 sec\n",
      "Number of Images: 600  - Time taken: 11.13291621208191 sec\n",
      "Number of Images: 700  - Time taken: 7.931636810302734 sec\n",
      "Number of Images: 800  - Time taken: 8.873104095458984 sec\n",
      "Number of Images: 900  - Time taken: 8.399644374847412 sec\n",
      "Number of Images: 1000  - Time taken: 7.668920993804932 sec\n",
      "\n",
      "Number of threads used: 6\n",
      "Number of Images: 100  - Time taken: 11.58078384399414 sec\n",
      "Number of Images: 200  - Time taken: 10.501096963882446 sec\n",
      "Number of Images: 300  - Time taken: 8.588462352752686 sec\n",
      "Number of Images: 400  - Time taken: 14.842669248580933 sec\n",
      "Number of Images: 500  - Time taken: 6.750468730926514 sec\n",
      "Number of Images: 600  - Time taken: 7.655164003372192 sec\n",
      "Number of Images: 700  - Time taken: 8.288825035095215 sec\n",
      "Number of Images: 800  - Time taken: 6.586739778518677 sec\n",
      "Number of Images: 900  - Time taken: 8.856602668762207 sec\n",
      "Number of Images: 1000  - Time taken: 6.779126882553101 sec\n",
      "\n",
      "Number of threads used: 7\n",
      "Number of Images: 100  - Time taken: 20.25599193572998 sec\n",
      "Number of Images: 200  - Time taken: 7.176898717880249 sec\n",
      "Number of Images: 300  - Time taken: 12.553344011306763 sec\n",
      "Number of Images: 400  - Time taken: 8.997962951660156 sec\n",
      "Number of Images: 500  - Time taken: 5.320310592651367 sec\n",
      "Number of Images: 600  - Time taken: 6.430024147033691 sec\n",
      "Number of Images: 700  - Time taken: 7.981064319610596 sec\n",
      "Number of Images: 800  - Time taken: 18.101966381072998 sec\n",
      "Number of Images: 900  - Time taken: 11.157393217086792 sec\n",
      "Number of Images: 1000  - Time taken: 19.058990955352783 sec\n",
      "\n",
      "Number of threads used: 8\n",
      "Number of Images: 100  - Time taken: 6.261247158050537 sec\n",
      "Number of Images: 200  - Time taken: 6.554373741149902 sec\n",
      "Number of Images: 300  - Time taken: 6.652841806411743 sec\n",
      "Number of Images: 400  - Time taken: 5.311115026473999 sec\n",
      "Number of Images: 500  - Time taken: 9.03794240951538 sec\n",
      "Number of Images: 600  - Time taken: 7.1658782958984375 sec\n",
      "Number of Images: 700  - Time taken: 7.136242151260376 sec\n",
      "Number of Images: 800  - Time taken: 23.92040777206421 sec\n",
      "Number of Images: 900  - Time taken: 19.99091625213623 sec\n",
      "Number of Images: 1000  - Time taken: 6.968306541442871 sec\n",
      "\n",
      "Number of threads used: 9\n",
      "Number of Images: 100  - Time taken: 4.906298398971558 sec\n",
      "Number of Images: 200  - Time taken: 7.727126836776733 sec\n",
      "Number of Images: 300  - Time taken: 6.5764336585998535 sec\n",
      "Number of Images: 400  - Time taken: 7.758517742156982 sec\n",
      "Number of Images: 500  - Time taken: 10.250415325164795 sec\n",
      "Number of Images: 600  - Time taken: 5.127056121826172 sec\n",
      "Number of Images: 700  - Time taken: 28.527575731277466 sec\n",
      "Number of Images: 800  - Time taken: 6.883371114730835 sec\n",
      "Number of Images: 900  - Time taken: 7.517603635787964 sec\n",
      "Number of Images: 1000  - Time taken: 7.340523719787598 sec\n",
      "\n",
      "Number of threads used: 10\n",
      "Number of Images: 100  - Time taken: 8.085994720458984 sec\n",
      "Number of Images: 200  - Time taken: 6.042015790939331 sec\n",
      "Number of Images: 300  - Time taken: 5.766525745391846 sec\n",
      "Number of Images: 400  - Time taken: 21.886605262756348 sec\n",
      "Number of Images: 500  - Time taken: 14.012242317199707 sec\n",
      "Number of Images: 600  - Time taken: 6.198447942733765 sec\n",
      "Number of Images: 700  - Time taken: 5.251848936080933 sec\n",
      "Number of Images: 800  - Time taken: 8.017134428024292 sec\n",
      "Number of Images: 900  - Time taken: 7.849697113037109 sec\n",
      "Number of Images: 1000  - Time taken: 5.830659627914429 sec\n",
      "\n"
     ]
    }
   ],
   "source": [
    "for i in range(1,11):\n",
    "    print(\"Number of threads used:\",  i)\n",
    "    multithreading(i, dirname)\n",
    "    print(\"\")"
   ]
  }
 ],
 "metadata": {
  "kernelspec": {
   "display_name": "Python 3",
   "language": "python",
   "name": "python3"
  },
  "language_info": {
   "codemirror_mode": {
    "name": "ipython",
    "version": 3
   },
   "file_extension": ".py",
   "mimetype": "text/x-python",
   "name": "python",
   "nbconvert_exporter": "python",
   "pygments_lexer": "ipython3",
   "version": "3.10.6"
  }
 },
 "nbformat": 4,
 "nbformat_minor": 2
}
